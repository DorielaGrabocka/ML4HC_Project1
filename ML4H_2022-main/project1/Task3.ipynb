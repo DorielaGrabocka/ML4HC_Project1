{
 "cells": [
  {
   "cell_type": "markdown",
   "metadata": {
    "id": "8Bal-SXVt_X-"
   },
   "source": [
    "# Task 3 - Ensembles"
   ]
  },
  {
   "cell_type": "markdown",
   "metadata": {
    "id": "dwVehyU59_Wb"
   },
   "source": [
    "This notebook provides training and evaluation for ensembles of tree algorithms and neural networks of previous tasks."
   ]
  },
  {
   "cell_type": "code",
   "execution_count": null,
   "metadata": {
    "colab": {
     "base_uri": "https://localhost:8080/"
    },
    "id": "7fbkVy24-Nct",
    "outputId": "95d2254a-54a8-46eb-f112-c3b7c2be2eaa"
   },
   "outputs": [],
   "source": [
    "#this code is needed for COLAB run only ********\n",
    "#COMMENT THIS OUT IF YOU WILL RUN IT LOCALLY AND DO NOT FOGET TO CHANGE PATH NAMES IN constants.py!!!!!!!\n",
    "\n",
    "# ! [ ! -z \"$COLAB_GPU\" ] && pip install torch torchvision pillow==4.1.1 skorch\n",
    "# from google.colab import drive\n",
    "# drive.mount('/content/drive')\n",
    "# path_to_module = '/content/drive/MyDrive/ML4HC/project1'\n",
    "# import sys\n",
    "# sys.path.append(path_to_module)\n"
   ]
  },
  {
   "cell_type": "code",
   "execution_count": null,
   "metadata": {
    "colab": {
     "base_uri": "https://localhost:8080/",
     "height": 17
    },
    "id": "yKL7okVs-Rj0",
    "outputId": "76275068-8305-431d-d5b7-50d759cc59c0"
   },
   "outputs": [],
   "source": [
    "%load_ext autoreload\n",
    "%autoreload 2\n",
    "\n",
    "from IPython.display import display, HTML\n",
    "display(HTML(\"<style>.container { width:100% !important; }</style>\"))\n"
   ]
  },
  {
   "cell_type": "markdown",
   "metadata": {
    "id": "KLD0n4ys-WIf"
   },
   "source": [
    "### Choose the dataset"
   ]
  },
  {
   "cell_type": "code",
   "execution_count": null,
   "metadata": {
    "id": "VpMnC9Aq-V14"
   },
   "outputs": [],
   "source": [
    "# DATASET = \"MITBIH\"\n",
    "DATASET = \"PTBDB\"\n",
    "\n",
    "if DATASET == \"MITBIH\":\n",
    "    N_CLASSES = 5\n",
    "else:\n",
    "    N_CLASSES = 2\n",
    "    "
   ]
  },
  {
   "cell_type": "markdown",
   "metadata": {
    "id": "bJiJxuPouDml"
   },
   "source": [
    "### Imports"
   ]
  },
  {
   "cell_type": "code",
   "execution_count": null,
   "metadata": {
    "id": "M7M2_xMkt2sU"
   },
   "outputs": [],
   "source": [
    "import torch\n",
    "import numpy as np\n",
    "\n",
    "import skorch\n",
    "from skorch.callbacks import LRScheduler, EarlyStopping, Checkpoint\n",
    "\n",
    "from torch.optim.lr_scheduler import ReduceLROnPlateau\n",
    "\n",
    "\n",
    "from src.data_loading import load_data_mitbih, load_data_ptbdb\n",
    "from src.data_preprocessing import *\n",
    "from src.metrics_utils import *\n",
    "from src.cnn_models.cnn import CNN\n",
    "from src.load_cnn import load_cnn_model\n",
    "from src.skorch_utils import get_neural_net_classifier, get_class_weights\n",
    "from src.ensembling import *\n",
    "from src.tree_models_io_utils import *\n",
    "\n",
    "torch.manual_seed(0)\n",
    "np.random.seed(0)\n"
   ]
  },
  {
   "cell_type": "markdown",
   "metadata": {
    "id": "yj0ReGuiuHZC"
   },
   "source": [
    "### Data Loading"
   ]
  },
  {
   "cell_type": "code",
   "execution_count": null,
   "metadata": {
    "colab": {
     "base_uri": "https://localhost:8080/"
    },
    "id": "otHJQJ3PuLzv",
    "outputId": "1650c855-b5b3-40a4-aa30-c318c220e070"
   },
   "outputs": [],
   "source": [
    "if N_CLASSES == 5:\n",
    "    (x, y), (xtest, ytest) = load_data_mitbih()\n",
    "else:\n",
    "    (x, y), (xtest, ytest) = load_data_ptbdb()\n",
    "    \n",
    "print(x.shape)\n",
    "print(np.unique(y))\n",
    "assert np.array_equal(np.unique(y), np.unique(ytest))"
   ]
  },
  {
   "cell_type": "code",
   "execution_count": null,
   "metadata": {
    "colab": {
     "base_uri": "https://localhost:8080/"
    },
    "id": "GuD0ys-q_V9B",
    "outputId": "99d73b7e-5042-4f78-d68a-0f854c8a6e0f"
   },
   "outputs": [],
   "source": [
    "#data preprocessing for tree algorithms\n",
    "print(\"Shape before adjustment: \",x.shape) #before shape adjustment\n",
    "x_train = convert3Dto2D(x)\n",
    "x_test = convert3Dto2D(xtest)\n",
    "y_train = y\n",
    "y_test = ytest\n",
    "print(\"Shape of x_train after adjustment: \",x_train.shape)\n",
    "print(\"Shape of x_test after adjustment: \",x_test.shape)\n"
   ]
  },
  {
   "cell_type": "markdown",
   "metadata": {
    "id": "eI5DlGueuUpO"
   },
   "source": [
    "### Create & Evaluate the ensemble models"
   ]
  },
  {
   "cell_type": "markdown",
   "metadata": {
    "id": "Z3UZCa7LuYVu"
   },
   "source": [
    "#### Loading tree models (random forrest, xgboost and lightgbm from Task 2, saved in folder tree_models inside src directory)"
   ]
  },
  {
   "cell_type": "code",
   "execution_count": null,
   "metadata": {
    "id": "brmuRHUkuUQM"
   },
   "outputs": [],
   "source": [
    "rf_classifier = load_rf(DATASET)\n",
    "xgb_classifier = load_xgboost(DATASET)\n",
    "lgb_classifier = load_lgbm(DATASET)\n",
    "\n",
    "list_of_models = [rf_classifier,xgb_classifier,lgb_classifier]\n"
   ]
  },
  {
   "cell_type": "markdown",
   "metadata": {
    "id": "rHTz642jTzhr"
   },
   "source": [
    "#### Check individual model's performance"
   ]
  },
  {
   "cell_type": "code",
   "execution_count": null,
   "metadata": {
    "colab": {
     "base_uri": "https://localhost:8080/"
    },
    "id": "0RU9ylUjQ0BB",
    "outputId": "66c07bce-6053-4b4b-acbe-29cbc4c3928d"
   },
   "outputs": [],
   "source": [
    "compute_metrics(y_test, rf_classifier.predict_proba(x_test), name=\"Random Forrest\")\n"
   ]
  },
  {
   "cell_type": "code",
   "execution_count": null,
   "metadata": {
    "colab": {
     "base_uri": "https://localhost:8080/"
    },
    "id": "-Mf0DP_oKJ5H",
    "outputId": "10e6794d-7efb-4ce3-ae5d-38a7108accf0"
   },
   "outputs": [],
   "source": [
    "compute_metrics(y_test, xgb_classifier.predict_proba(x_test), name=\"XGBoost\")\n"
   ]
  },
  {
   "cell_type": "code",
   "execution_count": null,
   "metadata": {
    "colab": {
     "base_uri": "https://localhost:8080/"
    },
    "id": "ZHm6AOoNKNet",
    "outputId": "d415dde1-126e-41a1-a3c6-aab9654be94b"
   },
   "outputs": [],
   "source": [
    "compute_metrics(y_test, lgb_classifier.predict_proba(x_test), name=\"LightGBM\")\n"
   ]
  },
  {
   "cell_type": "markdown",
   "metadata": {
    "id": "TCsh9ussT9YP"
   },
   "source": [
    "#### Evaluate the performance"
   ]
  },
  {
   "cell_type": "code",
   "execution_count": null,
   "metadata": {
    "colab": {
     "base_uri": "https://localhost:8080/"
    },
    "id": "i8pYOoMNUAI3",
    "outputId": "88ab79a4-aa63-4972-87b6-9228ded0f9f3"
   },
   "outputs": [],
   "source": [
    "y_average_pred = get_ensemble_predictions(list_of_models, x_test, N_CLASSES)\n",
    "y_weighted_pred = get_ensemble_predictions(list_of_models, x_test, N_CLASSES, weights=[0.10, 0.60, 0.30])\n",
    "y_logreg_pred = get_logreg_ensemble_predictions(list_of_models = list_of_models, \n",
    "                                                dataset=x_train, \n",
    "                                                dataset_labels=y_train,\n",
    "                                                test_set=x_test)\n"
   ]
  },
  {
   "cell_type": "code",
   "execution_count": null,
   "metadata": {
    "colab": {
     "base_uri": "https://localhost:8080/"
    },
    "id": "d6GNklI9XS0m",
    "outputId": "82feb1a9-837f-4de9-b712-6f73cb414b81"
   },
   "outputs": [],
   "source": [
    "compute_metrics(y_test, y_average_pred, name=\"Average Ensemble Metrics\")\n"
   ]
  },
  {
   "cell_type": "code",
   "execution_count": null,
   "metadata": {
    "colab": {
     "base_uri": "https://localhost:8080/"
    },
    "id": "_qIznFmnXIIv",
    "outputId": "d9679f84-adcd-471c-94ef-d1efb4f020ab"
   },
   "outputs": [],
   "source": [
    "compute_metrics(y_test, y_weighted_pred, name=\"Weighted Ensemble Metrics\")\n"
   ]
  },
  {
   "cell_type": "code",
   "execution_count": null,
   "metadata": {
    "colab": {
     "base_uri": "https://localhost:8080/"
    },
    "id": "2EG3DJFiQrbj",
    "outputId": "99c19662-4197-4ff1-dc0d-d9a87d9869e3"
   },
   "outputs": [],
   "source": [
    "compute_metrics(y_test, y_logreg_pred, name=\"LogReg Ensemble Metrics\")\n"
   ]
  },
  {
   "cell_type": "markdown",
   "metadata": {
    "id": "OmqWGPyMJIA7"
   },
   "source": [
    "### CNN Loading"
   ]
  },
  {
   "cell_type": "code",
   "execution_count": null,
   "metadata": {
    "id": "vfA3nzJ2JIA7"
   },
   "outputs": [],
   "source": [
    "# uncomment to use the pretrained net, otherwise it is expected that Task1 and Task2 have been successfuly run before\n",
    "residual_net = \"CnnResidual\" # + \"_pretrained\"\n",
    "vanilla_net = \"CnnVanilla\" # + \"_pretrained\"\n",
    "\n",
    "residual_net = load_cnn_model(residual_net, DATASET, N_CLASSES)\n",
    "vanilla_net = load_cnn_model(vanilla_net, DATASET, N_CLASSES)\n"
   ]
  },
  {
   "cell_type": "markdown",
   "metadata": {
    "id": "vci87TCEJIA7"
   },
   "source": [
    "### Check individual performance"
   ]
  },
  {
   "cell_type": "code",
   "execution_count": null,
   "metadata": {
    "id": "6xQPZXfDJIA7"
   },
   "outputs": [],
   "source": [
    "# need to reshape for pytorch\n",
    "xtrain_torch = preprocess_x_pytorch(x)\n",
    "xtest_torch = preprocess_x_pytorch(xtest)\n"
   ]
  },
  {
   "cell_type": "code",
   "execution_count": null,
   "metadata": {
    "id": "puzrxYdQJIA8"
   },
   "outputs": [],
   "source": [
    "y_proba_residual = residual_net.predict_proba(xtest_torch)\n",
    "compute_metrics(ytest, y_proba_residual, name=\"CnnResidual\")\n"
   ]
  },
  {
   "cell_type": "code",
   "execution_count": null,
   "metadata": {
    "id": "cSQZYuqgJIA8"
   },
   "outputs": [],
   "source": [
    "y_proba_vanilla = vanilla_net.predict_proba(xtest_torch)\n",
    "compute_metrics(ytest, y_proba_vanilla, name=\"CnnVanilla\")\n"
   ]
  },
  {
   "cell_type": "markdown",
   "metadata": {
    "id": "ODI-RhjwJIA8"
   },
   "source": [
    "### Ensemble CNNs"
   ]
  },
  {
   "cell_type": "code",
   "execution_count": null,
   "metadata": {
    "id": "ma3-LyT0JIA9",
    "scrolled": true
   },
   "outputs": [],
   "source": [
    "average_ensemble_preds = get_ensemble_predictions([residual_net, vanilla_net], xtest_torch, N_CLASSES)\n",
    "compute_metrics(ytest, average_ensemble_preds, name=\"AverageCnnEnsemble\")\n"
   ]
  },
  {
   "cell_type": "code",
   "execution_count": null,
   "metadata": {
    "id": "OX3wOcLVM1MO",
    "scrolled": true
   },
   "outputs": [],
   "source": [
    "weighted_ensemble_preds = get_ensemble_predictions([residual_net, vanilla_net], xtest_torch, N_CLASSES, weights=[0.7, 0.3])\n",
    "compute_metrics(ytest, weighted_ensemble_preds, name=\"WeightedCnnEnsemble\")\n"
   ]
  },
  {
   "cell_type": "code",
   "execution_count": null,
   "metadata": {
    "id": "dZ8SkS80Qy6M"
   },
   "outputs": [],
   "source": [
    "logreg_ensemble_preds = get_logreg_ensemble_predictions([residual_net, vanilla_net], xtrain_torch, y,xtest_torch)\n",
    "compute_metrics(ytest, logreg_ensemble_preds, name=\"LogRegCnnEnsemble\")\n"
   ]
  },
  {
   "cell_type": "code",
   "execution_count": null,
   "metadata": {},
   "outputs": [],
   "source": []
  }
 ],
 "metadata": {
  "colab": {
   "name": "Task3.ipynb",
   "provenance": []
  },
  "kernelspec": {
   "display_name": "ml4h_p1",
   "language": "python",
   "name": "ml4h_p1"
  },
  "language_info": {
   "codemirror_mode": {
    "name": "ipython",
    "version": 3
   },
   "file_extension": ".py",
   "mimetype": "text/x-python",
   "name": "python",
   "nbconvert_exporter": "python",
   "pygments_lexer": "ipython3",
   "version": "3.9.7"
  }
 },
 "nbformat": 4,
 "nbformat_minor": 1
}
