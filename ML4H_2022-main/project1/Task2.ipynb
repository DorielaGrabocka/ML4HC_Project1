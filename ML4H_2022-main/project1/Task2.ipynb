{
 "cells": [
  {
   "cell_type": "markdown",
   "id": "8016098b",
   "metadata": {
    "id": "8016098b"
   },
   "source": [
    "## This notebook provides, training, saving and evaluation for bi-LSTM, residual CNNs and tree based classifiers"
   ]
  },
  {
   "cell_type": "code",
   "execution_count": null,
   "id": "d7aa0fdb",
   "metadata": {
    "colab": {
     "base_uri": "https://localhost:8080/",
     "height": 17
    },
    "executionInfo": {
     "elapsed": 1544,
     "status": "ok",
     "timestamp": 1648298818576,
     "user": {
      "displayName": "Click Optima",
      "photoUrl": "https://lh3.googleusercontent.com/a/default-user=s64",
      "userId": "02663865869243792559"
     },
     "user_tz": -60
    },
    "id": "d7aa0fdb",
    "outputId": "f138061d-fc40-4348-c6fd-f276d8606b40"
   },
   "outputs": [],
   "source": [
    "%load_ext autoreload\n",
    "%autoreload 2\n",
    "\n",
    "from IPython.display import display, HTML\n",
    "display(HTML(\"<style>.container { width:100% !important; }</style>\"))\n",
    "from sklearn.ensemble import RandomForestClassifier, VotingClassifier\n"
   ]
  },
  {
   "cell_type": "markdown",
   "id": "cddf015b",
   "metadata": {
    "id": "cddf015b"
   },
   "source": [
    "## Choose the dataset"
   ]
  },
  {
   "cell_type": "code",
   "execution_count": null,
   "id": "40b675a6",
   "metadata": {
    "executionInfo": {
     "elapsed": 240,
     "status": "ok",
     "timestamp": 1648299140939,
     "user": {
      "displayName": "Click Optima",
      "photoUrl": "https://lh3.googleusercontent.com/a/default-user=s64",
      "userId": "02663865869243792559"
     },
     "user_tz": -60
    },
    "id": "40b675a6"
   },
   "outputs": [],
   "source": [
    "# DATASET = \"MITBIH\"\n",
    "DATASET = \"PTBDB\"\n",
    "\n",
    "if DATASET == \"MITBIH\":\n",
    "    N_CLASSES = 5\n",
    "else:\n",
    "    N_CLASSES = 2\n",
    "    "
   ]
  },
  {
   "cell_type": "markdown",
   "id": "fb735bc8",
   "metadata": {
    "id": "fb735bc8"
   },
   "source": [
    "## Imports"
   ]
  },
  {
   "cell_type": "code",
   "execution_count": null,
   "id": "2235bb93",
   "metadata": {
    "executionInfo": {
     "elapsed": 265,
     "status": "ok",
     "timestamp": 1648299142903,
     "user": {
      "displayName": "Click Optima",
      "photoUrl": "https://lh3.googleusercontent.com/a/default-user=s64",
      "userId": "02663865869243792559"
     },
     "user_tz": -60
    },
    "id": "2235bb93"
   },
   "outputs": [],
   "source": [
    "import torch\n",
    "import numpy as np\n",
    "\n",
    "import skorch\n",
    "from skorch.callbacks import LRScheduler, EarlyStopping, Checkpoint\n",
    "\n",
    "from torch.optim.lr_scheduler import ReduceLROnPlateau\n",
    "\n",
    "import lightgbm as lgb\n",
    "from xgboost.sklearn import XGBClassifier\n",
    "\n",
    "from copy import deepcopy\n",
    "\n",
    "\n",
    "from src.data_loading import load_data_mitbih, load_data_ptbdb\n",
    "from src.data_preprocessing import preprocess_x_pytorch, preprocess_y_pytorch\n",
    "from src.metrics_utils import compute_metrics, compute_metrics_from_keras, skorch_f1_score, sklearn_f1_score\n",
    "from src.cnn_models.cnn import CNN\n",
    "from src.skorch_utils import get_neural_net_classifier, get_class_weights\n",
    "from src.json_utils import serialize_tensors, save_file\n",
    "from src.tree_models_io_utils import *\n",
    "\n",
    "torch.manual_seed(0)\n",
    "np.random.seed(0)\n"
   ]
  },
  {
   "cell_type": "markdown",
   "id": "61d12e4d",
   "metadata": {
    "id": "61d12e4d"
   },
   "source": [
    "## CNN Models Section"
   ]
  },
  {
   "cell_type": "markdown",
   "id": "8e3db6ea",
   "metadata": {
    "id": "8e3db6ea"
   },
   "source": [
    "### Data Loading"
   ]
  },
  {
   "cell_type": "code",
   "execution_count": null,
   "id": "109b294b",
   "metadata": {
    "colab": {
     "base_uri": "https://localhost:8080/"
    },
    "executionInfo": {
     "elapsed": 14925,
     "status": "ok",
     "timestamp": 1648299160237,
     "user": {
      "displayName": "Click Optima",
      "photoUrl": "https://lh3.googleusercontent.com/a/default-user=s64",
      "userId": "02663865869243792559"
     },
     "user_tz": -60
    },
    "id": "109b294b",
    "outputId": "d6d7303a-1f2b-4f99-bb3d-cfd2551eb97c"
   },
   "outputs": [],
   "source": [
    "if N_CLASSES == 5:\n",
    "    (x, y), (xtest, ytest) = load_data_mitbih()\n",
    "else:\n",
    "    (x, y), (xtest, ytest) = load_data_ptbdb()\n",
    "\n",
    "(x_orig, y_orig), (xtest_orig, ytest_orig) = (deepcopy(x), deepcopy(y)), (deepcopy(xtest), deepcopy(ytest))\n",
    "    \n",
    "print(x.shape)\n",
    "print(np.unique(y))\n",
    "assert np.array_equal(np.unique(y), np.unique(ytest))\n"
   ]
  },
  {
   "cell_type": "code",
   "execution_count": null,
   "id": "52272a34",
   "metadata": {
    "executionInfo": {
     "elapsed": 29,
     "status": "ok",
     "timestamp": 1648298862848,
     "user": {
      "displayName": "Click Optima",
      "photoUrl": "https://lh3.googleusercontent.com/a/default-user=s64",
      "userId": "02663865869243792559"
     },
     "user_tz": -60
    },
    "id": "52272a34"
   },
   "outputs": [],
   "source": [
    "x, xtest = preprocess_x_pytorch(x), preprocess_x_pytorch(xtest)\n",
    "y, ytest = preprocess_y_pytorch(y), preprocess_y_pytorch(ytest)\n"
   ]
  },
  {
   "cell_type": "markdown",
   "id": "afe7777d",
   "metadata": {
    "id": "afe7777d"
   },
   "source": [
    "### Train & Save CNN model"
   ]
  },
  {
   "cell_type": "code",
   "execution_count": null,
   "id": "f9dde7af",
   "metadata": {
    "id": "f9dde7af",
    "outputId": "2d1b745c-db47-455d-b7d6-2a2e1a539c7b",
    "scrolled": true
   },
   "outputs": [],
   "source": [
    "# load best hyperparameters found for the residual CNN for the MITBIH dataset\n",
    "if DATASET == \"MITBIH\":\n",
    "    params = {\n",
    "        'module__n_filters': [64, 96, 96, 96, 128],\n",
    "        'module__strides': [2, 1, 1, 1, 1],\n",
    "        'module__kernel_sizes': [13, 9, 9, 9, 7],\n",
    "        'module__fully_connected_features': 64,\n",
    "        'module__adaptive_average_len': 8,\n",
    "        'module__residual': True,\n",
    "        'lr': 0.0002,\n",
    "        'iterator_train__batch_size': 256,\n",
    "        'criterion__weight': torch.Tensor([1., 1., 1., 1., 1.])\n",
    "    }\n",
    "else:\n",
    "    params = {\n",
    "        'module__n_filters': [32, 48, 48, 48, 64],\n",
    "        'module__strides': [2, 1, 1, 1, 1],\n",
    "        'module__kernel_sizes': [9, 7, 7, 7, 5],\n",
    "        'module__fully_connected_features': 128,\n",
    "        'module__adaptive_average_len': 8,\n",
    "        'module__residual': True,\n",
    "        'lr': 0.0008,\n",
    "        'iterator_train__batch_size': 256,\n",
    "        'criterion__weight': torch.Tensor([1., 1.])\n",
    "    }\n",
    "    \n",
    "# need to save these params to be able to load the model later\n",
    "save_file(\"CnnResidual\" + \"_\" + DATASET + \"/params.json\", serialize_tensors(params))\n",
    "    \n",
    "# callbacks necessary for training\n",
    "early_stopping_cb = EarlyStopping(patience=25, monitor=\"skorch_f1_score\", lower_is_better=False)\n",
    "lr_scheduler_cb = LRScheduler(policy=ReduceLROnPlateau, min_lr=0.000001, patience=2, verbose=True)\n",
    "\n",
    "# callback for printing f1 score on validation set during fitting\n",
    "macro_f1_cb = skorch.callbacks.EpochScoring(scoring=skorch_f1_score, lower_is_better=False)\n",
    "\n",
    "# callback for saving the best model according to validation f1 score\n",
    "cp_cb = Checkpoint(dirname=\"CnnResidual\" + \"_\" + DATASET, monitor=\"skorch_f1_score_best\")\n",
    "\n",
    "net = get_neural_net_classifier(module=CNN, n_classes=N_CLASSES, callbacks=[macro_f1_cb, lr_scheduler_cb, early_stopping_cb, cp_cb], params=params)\n",
    "net.fit(x, y)\n"
   ]
  },
  {
   "cell_type": "markdown",
   "id": "b059043f",
   "metadata": {
    "id": "b059043f"
   },
   "source": [
    "### Evaluate CNN Model"
   ]
  },
  {
   "cell_type": "code",
   "execution_count": null,
   "id": "2a417cdd",
   "metadata": {
    "colab": {
     "base_uri": "https://localhost:8080/",
     "height": 661
    },
    "executionInfo": {
     "elapsed": 1166,
     "status": "ok",
     "timestamp": 1648031490818,
     "user": {
      "displayName": "Click Optima",
      "photoUrl": "https://lh3.googleusercontent.com/a/default-user=s64",
      "userId": "02663865869243792559"
     },
     "user_tz": -60
    },
    "id": "2a417cdd",
    "outputId": "4c52328b-d11f-4221-951d-1446ee2ddc31"
   },
   "outputs": [],
   "source": [
    "y_proba = net.predict_proba(xtest)\n",
    "compute_metrics(ytest, y_proba, name=\"Residual_CNN\")\n"
   ]
  },
  {
   "cell_type": "markdown",
   "id": "pzf4qaSpckDM",
   "metadata": {
    "id": "pzf4qaSpckDM"
   },
   "source": [
    "### Tree Algorithms"
   ]
  },
  {
   "cell_type": "markdown",
   "id": "BkfM-Q0JcyXz",
   "metadata": {
    "id": "BkfM-Q0JcyXz"
   },
   "source": [
    "We load the data again in order to adapt it to the required format for the tree algorithms."
   ]
  },
  {
   "cell_type": "code",
   "execution_count": null,
   "id": "SJArv9Jcc8wi",
   "metadata": {
    "executionInfo": {
     "elapsed": 11,
     "status": "ok",
     "timestamp": 1648299160238,
     "user": {
      "displayName": "Click Optima",
      "photoUrl": "https://lh3.googleusercontent.com/a/default-user=s64",
      "userId": "02663865869243792559"
     },
     "user_tz": -60
    },
    "id": "SJArv9Jcc8wi"
   },
   "outputs": [],
   "source": [
    "#function needed to reshape input\n",
    "def convert3Dto2D(x):\n",
    "    return x.reshape(-1, x.shape[1])\n"
   ]
  },
  {
   "cell_type": "code",
   "execution_count": null,
   "id": "_tiYkG5fikrc",
   "metadata": {
    "executionInfo": {
     "elapsed": 11,
     "status": "ok",
     "timestamp": 1648299160239,
     "user": {
      "displayName": "Click Optima",
      "photoUrl": "https://lh3.googleusercontent.com/a/default-user=s64",
      "userId": "02663865869243792559"
     },
     "user_tz": -60
    },
    "id": "_tiYkG5fikrc"
   },
   "outputs": [],
   "source": [
    "#function to retreive parameter set per model with some default values\n",
    "def get_params_for_trees(model_name):\n",
    "    if model_name == 'rf':\n",
    "        return {'mitbih': {'n_estimators':400, 'max_depth':15, 'criterion':'gini', 'random_state':0 },\n",
    "                'ptbdb': {'n_estimators':800, 'max_depth':12, 'criterion':'gini', 'random_state':0}}\n",
    "    elif model_name == 'xgboost':\n",
    "        return {'mitbih':{'learning_rate':0.1, 'n_estimators':400, 'max_depth':6 },\n",
    "                'ptbdb':{'learning_rate':0.1, 'n_estimators':800, 'max_depth':10}}\n",
    "    else: \n",
    "        return {'mitbih':{'learning_rate':0.1, 'random_state':0, 'max_depth':10},\n",
    "                'ptbdb':{'learning_rate':0.1, 'random_state':0, 'max_depth':10 }}\n",
    "    "
   ]
  },
  {
   "cell_type": "code",
   "execution_count": null,
   "id": "wjoxjhdAcl2F",
   "metadata": {
    "colab": {
     "base_uri": "https://localhost:8080/"
    },
    "executionInfo": {
     "elapsed": 7219,
     "status": "ok",
     "timestamp": 1648299167448,
     "user": {
      "displayName": "Click Optima",
      "photoUrl": "https://lh3.googleusercontent.com/a/default-user=s64",
      "userId": "02663865869243792559"
     },
     "user_tz": -60
    },
    "id": "wjoxjhdAcl2F",
    "outputId": "7b2713ca-4007-4865-cb31-a7820b89d312"
   },
   "outputs": [],
   "source": [
    "#here we se up parameter values based on the dataset\n",
    "if N_CLASSES == 5:\n",
    "    (x, y), (xtest, ytest) = load_data_mitbih()\n",
    "    parameters_rf = get_params_for_trees('rf')['mitbih']\n",
    "    parameters_xg = get_params_for_trees('xgboost')['mitbih']\n",
    "    parameters_lgbm = get_params_for_trees('lgbm')['mitbih']\n",
    "else:\n",
    "    (x, y), (xtest, ytest) = load_data_ptbdb()\n",
    "    parameters_rf = get_params_for_trees('rf')['ptbdb']\n",
    "    parameters_xg = get_params_for_trees('xgboost')['ptbdb']\n",
    "    parameters_lgbm = get_params_for_trees('lgbm')['ptbdb']\n",
    "\n",
    "print(\"Shape before adjustment: \",x.shape) #before shape adjustment\n",
    "x_train = convert3Dto2D(x)\n",
    "x_test = convert3Dto2D(xtest)\n",
    "y_train = y\n",
    "y_test = ytest\n",
    "print(\"Shape of x_train after adjustment: \",x_train.shape)\n",
    "print(\"Shape of x_test after adjustment: \",x_test.shape)\n"
   ]
  },
  {
   "cell_type": "markdown",
   "id": "qLko3qHDdtuZ",
   "metadata": {
    "id": "qLko3qHDdtuZ"
   },
   "source": [
    "##### Random Forest (create and train the model)"
   ]
  },
  {
   "cell_type": "code",
   "execution_count": null,
   "id": "7nFQWwWxdqRL",
   "metadata": {
    "colab": {
     "base_uri": "https://localhost:8080/"
    },
    "executionInfo": {
     "elapsed": 377715,
     "status": "ok",
     "timestamp": 1648299545152,
     "user": {
      "displayName": "Click Optima",
      "photoUrl": "https://lh3.googleusercontent.com/a/default-user=s64",
      "userId": "02663865869243792559"
     },
     "user_tz": -60
    },
    "id": "7nFQWwWxdqRL",
    "outputId": "e62f2279-3ad4-438a-fe7b-1f33952921ad"
   },
   "outputs": [],
   "source": [
    "#adjsut parameters based on the dataset that we \n",
    "rf_classifier = RandomForestClassifier(n_estimators = parameters_rf['n_estimators'], \n",
    "                                       max_depth = parameters_rf['max_depth'],\n",
    "                                       criterion = parameters_rf['criterion'], \n",
    "                                       random_state = parameters_rf['random_state'])\n",
    "rf_classifier.fit(x_train, y_train)\n"
   ]
  },
  {
   "cell_type": "markdown",
   "id": "Twjtq_evnyYV",
   "metadata": {
    "id": "Twjtq_evnyYV"
   },
   "source": [
    "##### XGBoost (create and train the model)"
   ]
  },
  {
   "cell_type": "code",
   "execution_count": null,
   "id": "OlhXWR5NgIYp",
   "metadata": {
    "colab": {
     "base_uri": "https://localhost:8080/"
    },
    "executionInfo": {
     "elapsed": 3015058,
     "status": "ok",
     "timestamp": 1648302560183,
     "user": {
      "displayName": "Click Optima",
      "photoUrl": "https://lh3.googleusercontent.com/a/default-user=s64",
      "userId": "02663865869243792559"
     },
     "user_tz": -60
    },
    "id": "OlhXWR5NgIYp",
    "outputId": "1e65cb8e-4006-4007-e2c7-058112e563f2"
   },
   "outputs": [],
   "source": [
    "xgb_classifier = XGBClassifier(learning_rate=parameters_xg['learning_rate'], \n",
    "                               n_estimators = parameters_xg['n_estimators'], \n",
    "                               max_depth = parameters_xg['max_depth'])\n",
    "xgb_classifier.fit(x_train, y_train)\n"
   ]
  },
  {
   "cell_type": "markdown",
   "id": "muZi30RUpJD8",
   "metadata": {
    "id": "muZi30RUpJD8"
   },
   "source": [
    " ##### LightGBM (create and train the model)"
   ]
  },
  {
   "cell_type": "code",
   "execution_count": null,
   "id": "b9K20I09pOh9",
   "metadata": {
    "colab": {
     "base_uri": "https://localhost:8080/"
    },
    "executionInfo": {
     "elapsed": 65513,
     "status": "ok",
     "timestamp": 1648302625643,
     "user": {
      "displayName": "Click Optima",
      "photoUrl": "https://lh3.googleusercontent.com/a/default-user=s64",
      "userId": "02663865869243792559"
     },
     "user_tz": -60
    },
    "id": "b9K20I09pOh9",
    "outputId": "b3fbe6e6-d745-4c41-d017-ccd8cefaea0c"
   },
   "outputs": [],
   "source": [
    "lgb_classifier = lgb.LGBMClassifier(learning_rate=parameters_lgbm['learning_rate'],\n",
    "                                           max_depth=parameters_lgbm['max_depth'],\n",
    "                                           random_state=parameters_lgbm['random_state'])\n",
    "lgb_classifier.fit(x_train,y_train,\n",
    "                          eval_set=[(x_test,y_test),(x_train,y_train)],\n",
    "                          eval_metric='logloss')\n"
   ]
  },
  {
   "cell_type": "markdown",
   "id": "crsXuhgywien",
   "metadata": {
    "id": "crsXuhgywien"
   },
   "source": [
    "#### Model Evaluation"
   ]
  },
  {
   "cell_type": "code",
   "execution_count": null,
   "id": "IeJImYt6wlH9",
   "metadata": {
    "colab": {
     "base_uri": "https://localhost:8080/"
    },
    "executionInfo": {
     "elapsed": 1718,
     "status": "ok",
     "timestamp": 1648302627311,
     "user": {
      "displayName": "Click Optima",
      "photoUrl": "https://lh3.googleusercontent.com/a/default-user=s64",
      "userId": "02663865869243792559"
     },
     "user_tz": -60
    },
    "id": "IeJImYt6wlH9",
    "outputId": "cf9e40b7-1153-48b7-cb45-e00c38a48979"
   },
   "outputs": [],
   "source": [
    "y_pred_rf = rf_classifier.predict_proba(x_test)\n",
    "compute_metrics(y_test, y_pred_rf, name=\"Random Forrest\")\n"
   ]
  },
  {
   "cell_type": "code",
   "execution_count": null,
   "id": "pSGWoCcExJ6X",
   "metadata": {
    "colab": {
     "base_uri": "https://localhost:8080/"
    },
    "executionInfo": {
     "elapsed": 4488,
     "status": "ok",
     "timestamp": 1648302631779,
     "user": {
      "displayName": "Click Optima",
      "photoUrl": "https://lh3.googleusercontent.com/a/default-user=s64",
      "userId": "02663865869243792559"
     },
     "user_tz": -60
    },
    "id": "pSGWoCcExJ6X",
    "outputId": "af1fa64a-8913-48d4-da61-d3b043b5e9c7"
   },
   "outputs": [],
   "source": [
    "y_pred_xg = xgb_classifier.predict_proba(x_test)\n",
    "compute_metrics(y_test, y_pred_xg, name=\"XGBoost\")\n"
   ]
  },
  {
   "cell_type": "code",
   "execution_count": null,
   "id": "5CXtzD7xxR0t",
   "metadata": {
    "colab": {
     "base_uri": "https://localhost:8080/"
    },
    "executionInfo": {
     "elapsed": 680,
     "status": "ok",
     "timestamp": 1648302632414,
     "user": {
      "displayName": "Click Optima",
      "photoUrl": "https://lh3.googleusercontent.com/a/default-user=s64",
      "userId": "02663865869243792559"
     },
     "user_tz": -60
    },
    "id": "5CXtzD7xxR0t",
    "outputId": "eda996e2-cd54-47f7-f9fc-d6c0827e1cf2"
   },
   "outputs": [],
   "source": [
    "y_pred_lgbm = lgb_classifier.predict_proba(x_test)\n",
    "compute_metrics(y_test, y_pred_lgbm, name=\"LightGBM\")\n"
   ]
  },
  {
   "cell_type": "markdown",
   "id": "6RNwjmloGZaL",
   "metadata": {
    "id": "6RNwjmloGZaL"
   },
   "source": [
    "#### Saving tree models"
   ]
  },
  {
   "cell_type": "code",
   "execution_count": null,
   "id": "zY5EwfWXGcPA",
   "metadata": {
    "executionInfo": {
     "elapsed": 2769,
     "status": "ok",
     "timestamp": 1648302635175,
     "user": {
      "displayName": "Click Optima",
      "photoUrl": "https://lh3.googleusercontent.com/a/default-user=s64",
      "userId": "02663865869243792559"
     },
     "user_tz": -60
    },
    "id": "zY5EwfWXGcPA"
   },
   "outputs": [],
   "source": [
    "save_rf(rf_classifier, DATASET)\n"
   ]
  },
  {
   "cell_type": "code",
   "execution_count": null,
   "id": "RIgE1Erjf9ZB",
   "metadata": {
    "executionInfo": {
     "elapsed": 965,
     "status": "ok",
     "timestamp": 1648302636098,
     "user": {
      "displayName": "Click Optima",
      "photoUrl": "https://lh3.googleusercontent.com/a/default-user=s64",
      "userId": "02663865869243792559"
     },
     "user_tz": -60
    },
    "id": "RIgE1Erjf9ZB"
   },
   "outputs": [],
   "source": [
    "save_xgboost(xgb_classifier, DATASET)\n"
   ]
  },
  {
   "cell_type": "code",
   "execution_count": null,
   "id": "_Q-DAFocf9MY",
   "metadata": {
    "executionInfo": {
     "elapsed": 388,
     "status": "ok",
     "timestamp": 1648302636477,
     "user": {
      "displayName": "Click Optima",
      "photoUrl": "https://lh3.googleusercontent.com/a/default-user=s64",
      "userId": "02663865869243792559"
     },
     "user_tz": -60
    },
    "id": "_Q-DAFocf9MY"
   },
   "outputs": [],
   "source": [
    "save_lgbm(lgb_classifier, DATASET)\n"
   ]
  },
  {
   "cell_type": "markdown",
   "id": "971a6914",
   "metadata": {
    "id": "971a6914"
   },
   "source": [
    "### Train RNN model"
   ]
  },
  {
   "cell_type": "code",
   "execution_count": null,
   "id": "ed19c4df",
   "metadata": {
    "id": "ed19c4df"
   },
   "outputs": [],
   "source": [
    "from tensorflow import keras\n",
    "from keras import optimizers, losses, activations, models\n",
    "from keras.callbacks import ModelCheckpoint, LearningRateScheduler, ReduceLROnPlateau\n",
    "from keras.layers import Dense, Input, Dropout, LSTM, GRU, SimpleRNN, Bidirectional, Dropout\n",
    "from src.rnn_models.rnn import get_rnn_model\n"
   ]
  },
  {
   "cell_type": "code",
   "execution_count": null,
   "id": "24c668a3",
   "metadata": {
    "id": "24c668a3",
    "outputId": "08220c1a-ee2c-4ae6-b0c0-86c0d1617baf"
   },
   "outputs": [],
   "source": [
    "model = get_rnn_model(DATASET, \"advanced\")\n",
    "\n",
    "file_path = \"advanced_rnn_\"+DATASET+\".h5\"\n",
    "checkpoint = ModelCheckpoint(file_path, monitor='val_acc', verbose=1, save_best_only=True, mode='max')\n",
    "early = keras.callbacks.EarlyStopping(monitor=\"val_acc\", mode=\"max\", patience=5, verbose=1)\n",
    "redonplat = ReduceLROnPlateau(monitor=\"val_acc\", mode=\"max\", patience=3, verbose=2)\n",
    "callbacks_list = [checkpoint, early, redonplat]  # early\n",
    "\n",
    "model.fit(x_orig, y_orig, epochs=1000, verbose=2, callbacks=callbacks_list, validation_split=0.1)\n"
   ]
  },
  {
   "cell_type": "markdown",
   "id": "140e8417",
   "metadata": {
    "id": "140e8417"
   },
   "source": [
    "### Evaluate RNN model"
   ]
  },
  {
   "cell_type": "code",
   "execution_count": null,
   "id": "01042d38",
   "metadata": {
    "id": "01042d38",
    "outputId": "ee02eaf0-78c4-401c-8280-b64ec9441067"
   },
   "outputs": [],
   "source": [
    "model.load_weights(file_path)\n",
    "y_proba = model.predict(xtest_orig)\n",
    "compute_metrics_from_keras(ytest_orig, y_proba, name=\"Advanced_RNN\")\n"
   ]
  }
 ],
 "metadata": {
  "accelerator": "GPU",
  "colab": {
   "collapsed_sections": [],
   "name": "Task2.ipynb",
   "provenance": []
  },
  "kernelspec": {
   "display_name": "Python 3 (ipykernel)",
   "language": "python",
   "name": "python3"
  },
  "language_info": {
   "codemirror_mode": {
    "name": "ipython",
    "version": 3
   },
   "file_extension": ".py",
   "mimetype": "text/x-python",
   "name": "python",
   "nbconvert_exporter": "python",
   "pygments_lexer": "ipython3",
   "version": "3.9.7"
  }
 },
 "nbformat": 4,
 "nbformat_minor": 5
}
