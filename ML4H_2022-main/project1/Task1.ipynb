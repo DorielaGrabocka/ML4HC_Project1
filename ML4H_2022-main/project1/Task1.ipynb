{
 "cells": [
  {
   "cell_type": "markdown",
   "id": "55b7cea2",
   "metadata": {},
   "source": [
    "# This notebook provides training, saving and evaluation for the vanilla RNN and CNN models\n",
    "Models trained by this notebook can be later loaded in Taks3 for ensembling"
   ]
  },
  {
   "cell_type": "code",
   "execution_count": null,
   "id": "f705cc58",
   "metadata": {},
   "outputs": [],
   "source": [
    "%load_ext autoreload\n",
    "%autoreload 2\n",
    "\n",
    "from IPython.display import display, HTML\n",
    "display(HTML(\"<style>.container { width:100% !important; }</style>\"))\n"
   ]
  },
  {
   "cell_type": "markdown",
   "id": "c99fd9f8",
   "metadata": {},
   "source": [
    "## Choose the dataset"
   ]
  },
  {
   "cell_type": "code",
   "execution_count": null,
   "id": "15dc036d",
   "metadata": {},
   "outputs": [],
   "source": [
    "# DATASET = \"MITBIH\"\n",
    "DATASET = \"PTBDB\"\n",
    "\n",
    "if DATASET == \"MITBIH\":\n",
    "    N_CLASSES = 5\n",
    "else:\n",
    "    N_CLASSES = 2\n",
    "    "
   ]
  },
  {
   "cell_type": "markdown",
   "id": "12b31dba",
   "metadata": {},
   "source": [
    "## Imports"
   ]
  },
  {
   "cell_type": "code",
   "execution_count": null,
   "id": "c60a901d",
   "metadata": {},
   "outputs": [],
   "source": [
    "import torch\n",
    "import numpy as np\n",
    "\n",
    "import skorch\n",
    "from skorch.callbacks import LRScheduler, EarlyStopping, Checkpoint\n",
    "\n",
    "from torch.optim.lr_scheduler import ReduceLROnPlateau\n",
    "\n",
    "from copy import deepcopy\n",
    "\n",
    "from src.data_loading import load_data_mitbih, load_data_ptbdb\n",
    "from src.data_preprocessing import preprocess_x_pytorch, preprocess_y_pytorch\n",
    "from src.metrics_utils import compute_metrics, compute_metrics_from_keras, skorch_f1_score, sklearn_f1_score\n",
    "from src.cnn_models.cnn import CNN\n",
    "from src.skorch_utils import get_neural_net_classifier, get_class_weights\n",
    "from src.json_utils import serialize_tensors, save_file\n",
    "\n",
    "torch.manual_seed(0)\n",
    "np.random.seed(0)"
   ]
  },
  {
   "cell_type": "markdown",
   "id": "01c3e230",
   "metadata": {},
   "source": [
    "## CNN Models Section"
   ]
  },
  {
   "cell_type": "markdown",
   "id": "b2f821ec",
   "metadata": {},
   "source": [
    "### Data Loading"
   ]
  },
  {
   "cell_type": "code",
   "execution_count": null,
   "id": "86e4f1a2",
   "metadata": {},
   "outputs": [],
   "source": [
    "if N_CLASSES == 5:\n",
    "    (x, y), (xtest, ytest) = load_data_mitbih()\n",
    "else:\n",
    "    (x, y), (xtest, ytest) = load_data_ptbdb()\n",
    "\n",
    "(x_orig, y_orig), (xtest_orig, ytest_orig) = (deepcopy(x), deepcopy(y)), (deepcopy(xtest), deepcopy(ytest))\n",
    "    \n",
    "print(x.shape)\n",
    "print(np.unique(y))\n",
    "assert np.array_equal(np.unique(y), np.unique(ytest))\n",
    "\n"
   ]
  },
  {
   "cell_type": "code",
   "execution_count": null,
   "id": "463d5ec9",
   "metadata": {},
   "outputs": [],
   "source": [
    "x, xtest = preprocess_x_pytorch(x), preprocess_x_pytorch(xtest)\n",
    "y, ytest = preprocess_y_pytorch(y), preprocess_y_pytorch(ytest)\n"
   ]
  },
  {
   "cell_type": "markdown",
   "id": "4d292646",
   "metadata": {},
   "source": [
    "### Train CNN Model"
   ]
  },
  {
   "cell_type": "code",
   "execution_count": null,
   "id": "cc55b479",
   "metadata": {},
   "outputs": [],
   "source": [
    "# load best hyperparameters found for the vanilla CNN for the MITBIH dataset\n",
    "if DATASET == \"MITBIH\":\n",
    "    params = {\n",
    "        'module__strides': [2, 1],\n",
    "        'module__n_filters': [64, 128],\n",
    "        'module__kernel_sizes': [13, 7],\n",
    "        'module__adaptive_average_len': 8,\n",
    "        'module__fully_connected_features': 64,\n",
    "        'module__residual': False,\n",
    "        'lr': 0.0002,\n",
    "        'iterator_train__batch_size': 256,\n",
    "        'criterion__weight': torch.Tensor([1., 1., 1., 1., 1.])\n",
    "    }\n",
    "else:\n",
    "    params = {\n",
    "        'module__strides': [2, 1],\n",
    "        'module__n_filters': [64, 128],\n",
    "        'module__kernel_sizes': [13, 7],\n",
    "        'module__adaptive_average_len': 8,\n",
    "        'module__fully_connected_features': 256,\n",
    "        'module__residual': False,\n",
    "        'lr': 0.0008,\n",
    "        'iterator_train__batch_size': 256,\n",
    "        'criterion__weight': torch.Tensor([1.7981, 0.6926])\n",
    "    }\n",
    "    \n",
    "# need to save these params to be able to load the model later\n",
    "save_file(\"CnnVanilla\" + \"_\" + DATASET + \"/params.json\", serialize_tensors(params))\n",
    "    \n",
    "# callbacks necessary for training\n",
    "early_stopping_cb = EarlyStopping(patience=25, monitor=\"skorch_f1_score\", lower_is_better=False)\n",
    "lr_scheduler_cb = LRScheduler(policy=ReduceLROnPlateau, min_lr=0.000001, patience=2, verbose=True)\n",
    "\n",
    "# callback for printing f1 score on validation set during fitting\n",
    "macro_f1_cb = skorch.callbacks.EpochScoring(scoring=skorch_f1_score, lower_is_better=False)\n",
    "\n",
    "# callback for saving the best model according to validation f1 score\n",
    "cp_cb = Checkpoint(dirname=\"CnnVanilla\" + \"_\" + DATASET, monitor=\"skorch_f1_score_best\")\n",
    "\n",
    "net = get_neural_net_classifier(module=CNN, n_classes=N_CLASSES, callbacks=[macro_f1_cb, lr_scheduler_cb, early_stopping_cb, cp_cb], params=params)\n",
    "net.fit(x, y)\n"
   ]
  },
  {
   "cell_type": "markdown",
   "id": "69fde8ac",
   "metadata": {},
   "source": [
    "### Evaluate CNN Model"
   ]
  },
  {
   "cell_type": "code",
   "execution_count": null,
   "id": "33b29237",
   "metadata": {},
   "outputs": [],
   "source": [
    "y_proba = net.predict_proba(xtest)\n",
    "compute_metrics(ytest, y_proba, name=\"Vanilla_CNN\")\n"
   ]
  },
  {
   "cell_type": "markdown",
   "id": "b0921d3a",
   "metadata": {},
   "source": [
    "### Train RNN Model"
   ]
  },
  {
   "cell_type": "code",
   "execution_count": null,
   "id": "a30ff22c",
   "metadata": {},
   "outputs": [],
   "source": [
    "from tensorflow import keras\n",
    "from keras import optimizers, losses, activations, models\n",
    "from keras.callbacks import ModelCheckpoint, LearningRateScheduler, ReduceLROnPlateau\n",
    "from keras.layers import Dense, Input, Dropout, LSTM, GRU, SimpleRNN\n",
    "from src.rnn_models.rnn import get_rnn_model"
   ]
  },
  {
   "cell_type": "code",
   "execution_count": null,
   "id": "af0f5dc1",
   "metadata": {},
   "outputs": [],
   "source": [
    "model = get_rnn_model(DATASET, \"vanilla\")\n",
    "\n",
    "file_path = \"RnnVanilla_\"+DATASET+\"/model.h5\"\n",
    "checkpoint = ModelCheckpoint(file_path, monitor='val_acc', verbose=1, save_best_only=True, mode='max')\n",
    "early = keras.callbacks.EarlyStopping(monitor=\"val_acc\", mode=\"max\", patience=5, verbose=1)\n",
    "redonplat = ReduceLROnPlateau(monitor=\"val_acc\", mode=\"max\", patience=3, verbose=2)\n",
    "callbacks_list = [checkpoint, early, redonplat]  # early\n",
    "\n",
    "\n",
    "model.fit(x_orig, y_orig, epochs=1000, verbose=2, callbacks=callbacks_list, validation_split=0.1)\n"
   ]
  },
  {
   "cell_type": "markdown",
   "id": "b1d3ec4b",
   "metadata": {},
   "source": [
    "### Evaluate RNN Model"
   ]
  },
  {
   "cell_type": "code",
   "execution_count": null,
   "id": "bc0e0df9",
   "metadata": {},
   "outputs": [],
   "source": [
    "model.load_weights(file_path)\n",
    "y_proba = model.predict(xtest_orig)\n",
    "compute_metrics_from_keras(ytest_orig, y_proba, name=\"Vanilla_RNN\")\n"
   ]
  },
  {
   "cell_type": "code",
   "execution_count": null,
   "id": "b477167e",
   "metadata": {},
   "outputs": [],
   "source": []
  }
 ],
 "metadata": {
  "kernelspec": {
   "display_name": "Python 3 (ipykernel)",
   "language": "python",
   "name": "python3"
  },
  "language_info": {
   "codemirror_mode": {
    "name": "ipython",
    "version": 3
   },
   "file_extension": ".py",
   "mimetype": "text/x-python",
   "name": "python",
   "nbconvert_exporter": "python",
   "pygments_lexer": "ipython3",
   "version": "3.9.7"
  }
 },
 "nbformat": 4,
 "nbformat_minor": 5
}
